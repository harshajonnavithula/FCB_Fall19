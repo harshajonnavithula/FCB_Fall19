{
 "cells": [
  {
   "cell_type": "code",
   "execution_count": 1,
   "metadata": {},
   "outputs": [],
   "source": [
    "import pandas\n",
    "cropproduction = pandas.read_csv('CropProduction.csv')\n",
    "cropproductioncountry=cropproduction.iloc[:,0:1]\n",
    "cropproductiondata = cropproduction.iloc[:, 54:61]\n",
    "cropproductiondata = cropproductiondata.dropna()\n",
    "cropproductiondata = cropproductiondata.join(cropproductioncountry)\n",
    "cropproductiondata.to_csv('CropProductionCLEANED.csv')"
   ]
  },
  {
   "cell_type": "code",
   "execution_count": null,
   "metadata": {},
   "outputs": [],
   "source": []
  }
 ],
 "metadata": {
  "kernelspec": {
   "display_name": "Python 3",
   "language": "python",
   "name": "python3"
  },
  "language_info": {
   "codemirror_mode": {
    "name": "ipython",
    "version": 3
   },
   "file_extension": ".py",
   "mimetype": "text/x-python",
   "name": "python",
   "nbconvert_exporter": "python",
   "pygments_lexer": "ipython3",
   "version": "3.7.1"
  }
 },
 "nbformat": 4,
 "nbformat_minor": 2
}
