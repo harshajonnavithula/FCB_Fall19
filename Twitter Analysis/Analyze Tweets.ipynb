{
 "cells": [
  {
   "cell_type": "code",
   "execution_count": 29,
   "metadata": {},
   "outputs": [],
   "source": [
    "import tweepy\n",
    "\n",
    "consumer_key = \"98HildnXniXArE0g4y0rxHvy6\"\n",
    "consumer_secret = \"KuzGtjnGmilL8MoHzUjBuAWykVQlqgJmm6kBxFGxOlw4Y84cWq\"\n",
    "access_token = \"415927378-SXuiQmVewRzdztfXPPgeboeqfPk8QvMB4AmiTwll\"\n",
    "access_token_secret = \"b3VX2jBGFlZKQFpMFCQcme39JjiDVtpm3uFIXXSeHkLul\""
   ]
  },
  {
   "cell_type": "code",
   "execution_count": 30,
   "metadata": {},
   "outputs": [],
   "source": [
    "# attempt authentication \n",
    "try: \n",
    "    # Creating the authentication object\n",
    "    auth = tweepy.OAuthHandler(consumer_key, consumer_secret)\n",
    "    # Setting your access token and secret\n",
    "    auth.set_access_token(access_token, access_token_secret)\n",
    "    # Creating the API object while passing in auth information\n",
    "    api = tweepy.API(auth)\n",
    "except:\n",
    "    print(\"Error: Authentication Failed\")"
   ]
  },
  {
   "cell_type": "code",
   "execution_count": 31,
   "metadata": {
    "scrolled": true
   },
   "outputs": [
    {
     "name": "stdout",
     "output_type": "stream",
     "text": [
      "نائب وزير الخارجية يلتقي سفراء الدول المشاركة في بناء سد النهضة https://t.co/EdMopeja5I\n",
      "#عاجل | وحدات من الجيش العربي السوري تتحرك باتجاه الشمال لمواجهة العدوان التركي https://t.co/BN0KIQqCOX\n",
      "مسؤول بالداخلية #السعودية يشرح لـCNN عملية تحرير مخالفات مرورية ورصد جرائم قبل وقوعها بالذكاء الاصطناعي https://t.co/ikgRjlVRbi\n",
      "The diplomatic immunity of Anne Sacoolas, the American woman who is a suspect in a road crash that killed Harry Dun… https://t.co/lNavZg8AP0\n",
      "A social pecking order consisting of “haves” and “have-nots” living in the same household may have appeared among B… https://t.co/BbDYFXOBsl\n",
      "Authorities must explain fraudulent electoral rolls and allegations of state murder https://t.co/V3nHAuYnfk\n",
      "Tyreek is back.\n",
      "\n",
      "(via @Chiefs)\n",
      "https://t.co/oX4xs0YKXQ\n",
      "ميركل: تكلمت مع أردوغان وطلبت منه وضع حد للغزو التركي لسوريا #العربية_عاجل https://t.co/a1vIGVFnOW\n",
      "Sea turtles have navigated the oceans since the time of the dinosaurs. Meet the seven species and learn more about… https://t.co/Oi5mXh5Rgj\n",
      "October 13th is National No Bra Day!\n",
      "ميركل تدعو #تركيا إلى وقف هجومها شمال #سوريا فورا https://t.co/1ESzg4R8uX\n",
      "What to watch in third quarter earnings from U.S. companies https://t.co/5GfkVDGm1x https://t.co/lpVMryjv73\n",
      "هيئة الانتخابات التونسية: نسبة المشاركة بالجولة الثانية للرئاسة 17.8% قرابة الظهر \n",
      "#الانتخابات_التونسية https://t.co/Jbe1EFFl3l\n",
      "RT @6LACK: daily reminder to mind ya fuckin business\n",
      "A man is in custody after he shot five people — four of them fatally — in an apartment building in Chicago, police… https://t.co/7hPAZgHb0k\n",
      "تسليم 23 ألف بطاقة \"تكافل وكرامة\" للإدارات الاجتماعية في كفر الشيخ لتسليمها للمستهدفين | صور  https://t.co/R1IkQJNT3z\n",
      "#بوتين_على_العربية: روحاني أبلغنا بعدم تورط #طهران في حادث #أرامكو https://t.co/FYJU46pdvW\n",
      "Typhoon death toll in Japan spikes to 35, with 17 people missing, after storm unleashes widespread flooding https://t.co/jA1u1TC9GW\n",
      "#عاجل.. سانا: الجيش السوري يتحرك نحو الشمال لمواجهة \"العدوان\" التركي https://t.co/Np2clYyfHd\n",
      "\"Not for Sale\": Residents of Florida city destroyed by hurricane cling to hope of rebuilding https://t.co/0tPtUfiYZu\n"
     ]
    }
   ],
   "source": [
    "# Using the API object to get tweets from your timeline, and storing it in a variable called public_tweets\n",
    "public_tweets = api.home_timeline()\n",
    "# foreach through all tweets pulled\n",
    "for tweet in public_tweets:\n",
    "   # printing the text stored inside the tweet object\n",
    "   print(tweet.text)"
   ]
  },
  {
   "cell_type": "code",
   "execution_count": 32,
   "metadata": {},
   "outputs": [
    {
     "name": "stdout",
     "output_type": "stream",
     "text": [
      "TomMachoka2 Tweeted: RT @ItsMutai: KENYAN politicians have no shame. They travel on first class while those they represent live under the dollar. No food, poor…\n",
      "JainamS03430535 Tweeted: RT @Mithibaikshitij: If you need help sorting out your itinerary or if you are wondering what new delicacies to indulge in, fear not becaus…\n",
      "HetviMehta15 Tweeted: RT @Mithibaikshitij: If you need help sorting out your itinerary or if you are wondering what new delicacies to indulge in, fear not becaus…\n",
      "KaeLaniSays Tweeted: @douglasmack Thanks! My background is where food and travel intersect. So it’s very applicable to travel writing.\n"
     ]
    }
   ],
   "source": [
    "# The search term you want to find\n",
    "query = \"Food and Travel\"\n",
    "# Language code (follows ISO 639-1 standards)\n",
    "language = \"en\"\n",
    "\n",
    "# Calling the user_timeline function with our parameters\n",
    "query_results = api.search(q=query, lang=language, count = 5)\n",
    "\n",
    "# foreach through all tweets pulled\n",
    "for tweet in query_results:\n",
    "   # printing the text stored inside the tweet object\n",
    "   print(tweet.user.screen_name,\"Tweeted:\",tweet.text)"
   ]
  },
  {
   "cell_type": "code",
   "execution_count": 33,
   "metadata": {},
   "outputs": [
    {
     "name": "stdout",
     "output_type": "stream",
     "text": [
      "Jameis Winston\n",
      "#ChicagoMarathon\n",
      "Mike Evans\n",
      "#AtatianaJefferson\n",
      "#BTSPAVEDTHEWAY\n",
      "#AskFFT\n",
      "#KeepPounding\n",
      "Kyle Allen\n",
      "Bucs\n",
      "Tyreek Hill\n",
      "World Peace\n",
      "Curtis Samuel\n",
      "Tasha\n",
      "Bruce Arians\n",
      "Dan Fouts\n",
      "Brandon Wilson\n",
      "5 INTs\n",
      "joey slye\n",
      "Ray Ray\n",
      "Rylo\n",
      "Rich Eisen\n",
      "Fear God\n",
      "Happy Thanksgiving\n",
      "DJ Moore\n",
      "Fletcher Cox\n",
      "#SpoilAMovieIn2Words\n",
      "#TrumpBetrayedOurAllies\n",
      "#LGBTQtakeover\n",
      "#PowerTV\n",
      "#SundayThoughts\n",
      "#SEAvsCLE\n",
      "#NoBraDay\n",
      "#HOUvsKC\n",
      "#ThankYouForBeingJimin\n",
      "#WASvsMIA\n",
      "#PHIvsMIN\n",
      "#FakeLawyerFacts\n",
      "#nfluk\n",
      "#augrad19\n",
      "#PeopleAlwaysTellMe\n",
      "#tbvscar\n",
      "#CINvsBAL\n",
      "#nfllondon\n",
      "#NOvsJAX\n",
      "#Inktoberday13\n",
      "#blackharriesmatter\n",
      "#DolittleMovie\n",
      "#CLEvsSEA\n",
      "#AskBruceAnything\n",
      "#IdolsSA\n"
     ]
    }
   ],
   "source": [
    "# Search for trends using the WOEID of the location\n",
    "trend_results = api.trends_place(id = 2379574)\n",
    "\n",
    "for location in trend_results:\n",
    "    for trend in location[\"trends\"]:\n",
    "        print(trend[\"name\"])"
   ]
  },
  {
   "cell_type": "code",
   "execution_count": 34,
   "metadata": {},
   "outputs": [
    {
     "name": "stdout",
     "output_type": "stream",
     "text": [
      "42\n"
     ]
    }
   ],
   "source": [
    "# Read the names and twitter usernames from a text file\n",
    "with open('chefs.txt', 'r') as f:\n",
    "    chefs = f.readlines()\n",
    "    \n",
    "# Remove '\\n' from the text\n",
    "chefs_usernames = [x.strip() for x in chefs]\n",
    "# Get the usernames of the chefs\n",
    "chefs_usernames = [x.split(\"- \",1)[1] for x in chefs_usernames]\n",
    "\n",
    "# Initialize an empty list\n",
    "tweets = []\n",
    "\n",
    "# Get the tweets of all chefs extracted from the text file\n",
    "for aChef in chefs_usernames:\n",
    "    # Get chef tweets\n",
    "    data = api.user_timeline(aChef, count = 100)\n",
    "    for status in data:\n",
    "        if (\"2019\" in status._json[\"created_at\"]):\n",
    "            #print(status._json[\"created_at\"])\n",
    "            tweets.append(status._json[\"text\"].lower())\n",
    "f.close()\n",
    "print(len(chefs))"
   ]
  },
  {
   "cell_type": "code",
   "execution_count": 42,
   "metadata": {},
   "outputs": [],
   "source": [
    "import pandas as pd\n",
    "\n",
    "# Read the names and twitter usernames from a text file\n",
    "with open('keywords.txt', 'r') as f:\n",
    "    words = f.readlines()\n",
    "\n",
    "# Remove '\\n' from the text\n",
    "words = [x.strip() for x in words]\n",
    "# Make all words lowercase\n",
    "words = [x.lower() for x in words]\n",
    "\n",
    "# Initialize an empty dictionary\n",
    "wordDict = dict()\n",
    "\n",
    "for tweet in tweets:\n",
    "    for word in words:\n",
    "        if word in tweet:\n",
    "            if word in wordDict.keys():\n",
    "                wordDict[word] += 1\n",
    "            else:\n",
    "                wordDict[word] = 1\n",
    " \n",
    "df = pd.DataFrame(list(wordDict.items()), columns=['Word', 'Count'])\n",
    "sorted_df = df.sort_values(by=['Count'], ascending=False)\n",
    "\n",
    "#sorted_df\n",
    "#subset_df = sorted_df[0:10]\n",
    "#subset_df.plot.bar(x='Word', y='Count', rot=0)\n",
    "\n",
    "sorted_df.to_csv(\"out.csv\", sep='\\t', encoding='utf-8')"
   ]
  },
  {
   "cell_type": "code",
   "execution_count": null,
   "metadata": {},
   "outputs": [],
   "source": []
  }
 ],
 "metadata": {
  "kernelspec": {
   "display_name": "Python 3",
   "language": "python",
   "name": "python3"
  },
  "language_info": {
   "codemirror_mode": {
    "name": "ipython",
    "version": 3
   },
   "file_extension": ".py",
   "mimetype": "text/x-python",
   "name": "python",
   "nbconvert_exporter": "python",
   "pygments_lexer": "ipython3",
   "version": "3.6.4"
  }
 },
 "nbformat": 4,
 "nbformat_minor": 2
}
