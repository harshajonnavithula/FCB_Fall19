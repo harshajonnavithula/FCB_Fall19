{
 "cells": [
  {
   "cell_type": "code",
   "execution_count": 1,
   "metadata": {},
   "outputs": [],
   "source": [
    "import pandas\n",
    "tourismdepartures = pandas.read_csv('InternationalTourismNumberOfDepartures.csv')\n",
    "tourismdeparturescountry=tourismdepartures.iloc[:,0:1]\n",
    "tourismdeparturesdata = tourismdepartures.iloc[:, 54:62]\n",
    "tourismdeparturesdata = tourismdeparturesdata.dropna()\n",
    "tourismdeparturesdata = tourismdeparturesdata.join(tourismdeparturescountry)\n",
    "tourismdeparturesdata.to_csv('TourismDeparturesDataCLEANED.csv')"
   ]
  },
  {
   "cell_type": "code",
   "execution_count": null,
   "metadata": {},
   "outputs": [],
   "source": []
  }
 ],
 "metadata": {
  "kernelspec": {
   "display_name": "Python 3",
   "language": "python",
   "name": "python3"
  },
  "language_info": {
   "codemirror_mode": {
    "name": "ipython",
    "version": 3
   },
   "file_extension": ".py",
   "mimetype": "text/x-python",
   "name": "python",
   "nbconvert_exporter": "python",
   "pygments_lexer": "ipython3",
   "version": "3.7.1"
  }
 },
 "nbformat": 4,
 "nbformat_minor": 2
}
