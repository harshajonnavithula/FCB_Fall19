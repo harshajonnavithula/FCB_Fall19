{
 "cells": [
  {
   "cell_type": "code",
   "execution_count": 5,
   "metadata": {},
   "outputs": [],
   "source": [
    "import pandas\n",
    "foodproduction = pandas.read_csv('FoodProduction.csv')\n",
    "foodproductioncountry=foodproduction.iloc[:,0:1]\n",
    "foodproductiondata = foodproduction.iloc[:, 54:61]\n",
    "foodproductiondata = foodproductiondata.dropna()\n",
    "foodproductiondata = foodproductiondata.join(foodproductioncountry)\n",
    "foodproductiondata.to_csv('FoodProductionCLEANED.csv')"
   ]
  },
  {
   "cell_type": "code",
   "execution_count": 7,
   "metadata": {},
   "outputs": [],
   "source": [
    "foodproductiondata['slope'] = (foodproductiondata['2016']-foodproductiondata['2010'])/6"
   ]
  },
  {
   "cell_type": "code",
   "execution_count": 15,
   "metadata": {},
   "outputs": [],
   "source": [
    "foodproductiondata=foodproductiondata.sort_values('slope', ascending=False)\n"
   ]
  },
  {
   "cell_type": "code",
   "execution_count": 9,
   "metadata": {},
   "outputs": [],
   "source": [
    "top5 = foodproductiondata.iloc[0:5, 0:10]\n",
    "top5t = top5.T"
   ]
  },
  {
   "cell_type": "code",
   "execution_count": 11,
   "metadata": {},
   "outputs": [
    {
     "data": {
      "text/html": [
       "<div>\n",
       "<style scoped>\n",
       "    .dataframe tbody tr th:only-of-type {\n",
       "        vertical-align: middle;\n",
       "    }\n",
       "\n",
       "    .dataframe tbody tr th {\n",
       "        vertical-align: top;\n",
       "    }\n",
       "\n",
       "    .dataframe thead th {\n",
       "        text-align: right;\n",
       "    }\n",
       "</style>\n",
       "<table border=\"1\" class=\"dataframe\">\n",
       "  <thead>\n",
       "    <tr style=\"text-align: right;\">\n",
       "      <th></th>\n",
       "      <th>127</th>\n",
       "      <th>20</th>\n",
       "      <th>246</th>\n",
       "      <th>125</th>\n",
       "      <th>208</th>\n",
       "    </tr>\n",
       "  </thead>\n",
       "  <tbody>\n",
       "    <tr>\n",
       "      <th>2010</th>\n",
       "      <td>126.4</td>\n",
       "      <td>119.04</td>\n",
       "      <td>107.34</td>\n",
       "      <td>130.54</td>\n",
       "      <td>149.97</td>\n",
       "    </tr>\n",
       "    <tr>\n",
       "      <th>2011</th>\n",
       "      <td>138.93</td>\n",
       "      <td>164.38</td>\n",
       "      <td>127.55</td>\n",
       "      <td>173.82</td>\n",
       "      <td>159.39</td>\n",
       "    </tr>\n",
       "    <tr>\n",
       "      <th>2012</th>\n",
       "      <td>146.92</td>\n",
       "      <td>165.67</td>\n",
       "      <td>127.05</td>\n",
       "      <td>175.3</td>\n",
       "      <td>164.28</td>\n",
       "    </tr>\n",
       "    <tr>\n",
       "      <th>2013</th>\n",
       "      <td>155.88</td>\n",
       "      <td>203.34</td>\n",
       "      <td>156.54</td>\n",
       "      <td>196.62</td>\n",
       "      <td>172.94</td>\n",
       "    </tr>\n",
       "    <tr>\n",
       "      <th>2014</th>\n",
       "      <td>182.64</td>\n",
       "      <td>203.16</td>\n",
       "      <td>152.73</td>\n",
       "      <td>190.2</td>\n",
       "      <td>175.26</td>\n",
       "    </tr>\n",
       "    <tr>\n",
       "      <th>2015</th>\n",
       "      <td>202.98</td>\n",
       "      <td>201.56</td>\n",
       "      <td>144.88</td>\n",
       "      <td>191.25</td>\n",
       "      <td>173.09</td>\n",
       "    </tr>\n",
       "    <tr>\n",
       "      <th>2016</th>\n",
       "      <td>211.35</td>\n",
       "      <td>200.76</td>\n",
       "      <td>169.07</td>\n",
       "      <td>191.59</td>\n",
       "      <td>201.22</td>\n",
       "    </tr>\n",
       "  </tbody>\n",
       "</table>\n",
       "</div>"
      ],
      "text/plain": [
       "         127     20      246     125     208\n",
       "2010   126.4  119.04  107.34  130.54  149.97\n",
       "2011  138.93  164.38  127.55  173.82  159.39\n",
       "2012  146.92  165.67  127.05   175.3  164.28\n",
       "2013  155.88  203.34  156.54  196.62  172.94\n",
       "2014  182.64  203.16  152.73   190.2  175.26\n",
       "2015  202.98  201.56  144.88  191.25  173.09\n",
       "2016  211.35  200.76  169.07  191.59  201.22"
      ]
     },
     "execution_count": 11,
     "metadata": {},
     "output_type": "execute_result"
    }
   ],
   "source": [
    "top5tdata = top5t[0:7]\n",
    "top5tdata"
   ]
  },
  {
   "cell_type": "code",
   "execution_count": 12,
   "metadata": {},
   "outputs": [],
   "source": [
    "top5tdata.columns  = top5['Country Name']"
   ]
  },
  {
   "cell_type": "code",
   "execution_count": 13,
   "metadata": {},
   "outputs": [
    {
     "data": {
      "text/html": [
       "<div>\n",
       "<style scoped>\n",
       "    .dataframe tbody tr th:only-of-type {\n",
       "        vertical-align: middle;\n",
       "    }\n",
       "\n",
       "    .dataframe tbody tr th {\n",
       "        vertical-align: top;\n",
       "    }\n",
       "\n",
       "    .dataframe thead th {\n",
       "        text-align: right;\n",
       "    }\n",
       "</style>\n",
       "<table border=\"1\" class=\"dataframe\">\n",
       "  <thead>\n",
       "    <tr style=\"text-align: right;\">\n",
       "      <th>Country Name</th>\n",
       "      <th>Lao PDR</th>\n",
       "      <th>Bahrain</th>\n",
       "      <th>Ukraine</th>\n",
       "      <th>Kuwait</th>\n",
       "      <th>Sierra Leone</th>\n",
       "    </tr>\n",
       "  </thead>\n",
       "  <tbody>\n",
       "    <tr>\n",
       "      <th>2010</th>\n",
       "      <td>126.4</td>\n",
       "      <td>119.04</td>\n",
       "      <td>107.34</td>\n",
       "      <td>130.54</td>\n",
       "      <td>149.97</td>\n",
       "    </tr>\n",
       "    <tr>\n",
       "      <th>2011</th>\n",
       "      <td>138.93</td>\n",
       "      <td>164.38</td>\n",
       "      <td>127.55</td>\n",
       "      <td>173.82</td>\n",
       "      <td>159.39</td>\n",
       "    </tr>\n",
       "    <tr>\n",
       "      <th>2012</th>\n",
       "      <td>146.92</td>\n",
       "      <td>165.67</td>\n",
       "      <td>127.05</td>\n",
       "      <td>175.3</td>\n",
       "      <td>164.28</td>\n",
       "    </tr>\n",
       "    <tr>\n",
       "      <th>2013</th>\n",
       "      <td>155.88</td>\n",
       "      <td>203.34</td>\n",
       "      <td>156.54</td>\n",
       "      <td>196.62</td>\n",
       "      <td>172.94</td>\n",
       "    </tr>\n",
       "    <tr>\n",
       "      <th>2014</th>\n",
       "      <td>182.64</td>\n",
       "      <td>203.16</td>\n",
       "      <td>152.73</td>\n",
       "      <td>190.2</td>\n",
       "      <td>175.26</td>\n",
       "    </tr>\n",
       "    <tr>\n",
       "      <th>2015</th>\n",
       "      <td>202.98</td>\n",
       "      <td>201.56</td>\n",
       "      <td>144.88</td>\n",
       "      <td>191.25</td>\n",
       "      <td>173.09</td>\n",
       "    </tr>\n",
       "    <tr>\n",
       "      <th>2016</th>\n",
       "      <td>211.35</td>\n",
       "      <td>200.76</td>\n",
       "      <td>169.07</td>\n",
       "      <td>191.59</td>\n",
       "      <td>201.22</td>\n",
       "    </tr>\n",
       "  </tbody>\n",
       "</table>\n",
       "</div>"
      ],
      "text/plain": [
       "Country Name Lao PDR Bahrain Ukraine  Kuwait Sierra Leone\n",
       "2010           126.4  119.04  107.34  130.54       149.97\n",
       "2011          138.93  164.38  127.55  173.82       159.39\n",
       "2012          146.92  165.67  127.05   175.3       164.28\n",
       "2013          155.88  203.34  156.54  196.62       172.94\n",
       "2014          182.64  203.16  152.73   190.2       175.26\n",
       "2015          202.98  201.56  144.88  191.25       173.09\n",
       "2016          211.35  200.76  169.07  191.59       201.22"
      ]
     },
     "execution_count": 13,
     "metadata": {},
     "output_type": "execute_result"
    }
   ],
   "source": [
    "top5tdata"
   ]
  },
  {
   "cell_type": "code",
   "execution_count": 17,
   "metadata": {},
   "outputs": [
    {
     "data": {
      "text/plain": [
       "[Text(0, 0, '2010'),\n",
       " Text(0, 0, '2011'),\n",
       " Text(0, 0, '2012'),\n",
       " Text(0, 0, '2013'),\n",
       " Text(0, 0, '2014'),\n",
       " Text(0, 0, '2015'),\n",
       " Text(0, 0, '2016')]"
      ]
     },
     "execution_count": 17,
     "metadata": {},
     "output_type": "execute_result"
    },
    {
     "data": {
      "image/png": "[encoded data removed]",
      "text/plain": [
       "<Figure size 432x288 with 1 Axes>"
      ]
     },
     "metadata": {
      "needs_background": "light"
     },
     "output_type": "display_data"
    }
   ],
   "source": [
    "ax = top5tdata.plot()\n",
    "ax.set_xlabel(\"Years\")\n",
    "ax.set_ylabel(\"FoodImports(%)\")\n",
    "ax.set_xticklabels(top5tdata.index, rotation=0)"
   ]
  },
  {
   "cell_type": "code",
   "execution_count": null,
   "metadata": {},
   "outputs": [],
   "source": []
  }
 ],
 "metadata": {
  "kernelspec": {
   "display_name": "Python 3",
   "language": "python",
   "name": "python3"
  },
  "language_info": {
   "codemirror_mode": {
    "name": "ipython",
    "version": 3
   },
   "file_extension": ".py",
   "mimetype": "text/x-python",
   "name": "python",
   "nbconvert_exporter": "python",
   "pygments_lexer": "ipython3",
   "version": "3.7.1"
  }
 },
 "nbformat": 4,
 "nbformat_minor": 2
}
