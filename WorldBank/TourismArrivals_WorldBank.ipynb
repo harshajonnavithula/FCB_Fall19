{
 "cells": [
  {
   "cell_type": "code",
   "execution_count": 18,
   "metadata": {},
   "outputs": [],
   "source": [
    "import pandas\n",
    "tourismarrivals = pandas.read_csv('InternationalTourismNumberOfArrivals.csv')\n",
    "tourismarrivalscountry=tourismarrivals.iloc[:,0:1]\n",
    "tourismarrivalsdata = tourismarrivals.iloc[:, 54:62]\n",
    "tourismarrivalsdata = tourismarrivalsdata.dropna()\n",
    "tourismarrivalsdata = tourismarrivalsdata.join(tourismarrivalscountry)\n",
    "tourismarrivalsdata.to_csv('TourismArrivalsCLEANED.csv')"
   ]
  },
  {
   "cell_type": "code",
   "execution_count": 19,
   "metadata": {},
   "outputs": [],
   "source": [
    "tourismarrivalsdata['slope'] = (tourismarrivalsdata['2017']-tourismarrivalsdata['2010'])/7\n",
    "tourismarrivalsdata['percent'] = (tourismarrivalsdata['2017']-tourismarrivalsdata['2010'])/tourismarrivalsdata['2010']"
   ]
  },
  {
   "cell_type": "code",
   "execution_count": null,
   "metadata": {},
   "outputs": [],
   "source": []
  },
  {
   "cell_type": "code",
   "execution_count": 6,
   "metadata": {},
   "outputs": [],
   "source": []
  },
  {
   "cell_type": "code",
   "execution_count": null,
   "metadata": {},
   "outputs": [],
   "source": []
  },
  {
   "cell_type": "code",
   "execution_count": 8,
   "metadata": {},
   "outputs": [],
   "source": []
  },
  {
   "cell_type": "code",
   "execution_count": null,
   "metadata": {},
   "outputs": [],
   "source": []
  },
  {
   "cell_type": "code",
   "execution_count": 22,
   "metadata": {},
   "outputs": [],
   "source": [
    "tourismarrivalsdata=tourismarrivalsdata[tourismarrivalsdata['Country Name'] != 'World']\n",
    "tourismarrivalsdata=tourismarrivalsdata[tourismarrivalsdata['Country Name'] != 'IDA & IBRD total']\n",
    "tourismarrivalsdata=tourismarrivalsdata[tourismarrivalsdata['Country Name'] != 'Middle income']\n",
    "tourismarrivalsdata=tourismarrivalsdata[tourismarrivalsdata['Country Name'] != 'Low & middle income']\n",
    "tourismarrivalsdata=tourismarrivalsdata[tourismarrivalsdata['Country Name'] != 'IBRD only']\n",
    "tourismarrivalsdata=tourismarrivalsdata[tourismarrivalsdata['Country Name'] != 'Late-demographic dividend']\n",
    "tourismarrivalsdata=tourismarrivalsdata[tourismarrivalsdata['Country Name'] != 'Upper middle income']\n",
    "tourismarrivalsdata=tourismarrivalsdata[tourismarrivalsdata['Country Name'] != 'East Asia & Pacific']\n",
    "tourismarrivalsdata=tourismarrivalsdata[tourismarrivalsdata['Country Name'] != 'East Asia & Pacific (excluding high income)']\n",
    "tourismarrivalsdata=tourismarrivalsdata[tourismarrivalsdata['Country Name'] != 'East Asia & Pacific (IDA & IBRD countries)']\n",
    "tourismarrivalsdata=tourismarrivalsdata[tourismarrivalsdata['Country Name'] != 'High income']\n",
    "tourismarrivalsdata=tourismarrivalsdata[tourismarrivalsdata['Country Name'] != 'Post-demographic dividend']\n",
    "tourismarrivalsdata=tourismarrivalsdata[tourismarrivalsdata['Country Name'] != 'OECD members']\n",
    "tourismarrivalsdata=tourismarrivalsdata[tourismarrivalsdata['Country Name'] != 'Europe & Central Asia']\n",
    "tourismarrivalsdata=tourismarrivalsdata[tourismarrivalsdata['Country Name'] != 'North America']\n",
    "tourismarrivalsdata=tourismarrivalsdata[tourismarrivalsdata['Country Name'] != 'Early-demographic dividend']\n",
    "tourismarrivalsdata=tourismarrivalsdata[tourismarrivalsdata['Country Name'] != 'European Union']\n",
    "tourismarrivalsdata=tourismarrivalsdata[tourismarrivalsdata['Country Name'] != 'Lower middle income']\n",
    "tourismarrivalsdata=tourismarrivalsdata[tourismarrivalsdata['Country Name'] != 'Euro area']\n",
    "tourismarrivalsdata=tourismarrivalsdata[tourismarrivalsdata['Country Name'] != 'Middle East & North Africa']\n",
    "tourismarrivalsdata=tourismarrivalsdata[tourismarrivalsdata['Country Name'] != 'Latin America & the Caribbean (IDA & IBRD countries)']\n",
    "tourismarrivalsdata=tourismarrivalsdata[tourismarrivalsdata['Country Name'] != 'Latin America & Caribbean']\n",
    "tourismarrivalsdata=tourismarrivalsdata[tourismarrivalsdata['Country Name'] != 'Arab World']\n",
    "tourismarrivalsdata=tourismarrivalsdata[tourismarrivalsdata['Country Name'] != 'Latin America & Caribbean (excluding high income)']\n",
    "tourismarrivalsdata=tourismarrivalsdata[tourismarrivalsdata['Country Name'] != 'Europe & Central Asia (IDA & IBRD countries)']\n",
    "tourismarrivalsdata=tourismarrivalsdata[tourismarrivalsdata['Country Name'] != 'Europe & Central Asia (excluding high income)']\n",
    "tourismarrivalsdata=tourismarrivalsdata[tourismarrivalsdata['Country Name'] != 'Small states']\n",
    "tourismarrivalsdata=tourismarrivalsdata[tourismarrivalsdata['Country Name'] != 'South Asia (IDA & IBRD)']\n",
    "tourismarrivalsdata=tourismarrivalsdata[tourismarrivalsdata['Country Name'] != 'South Asia']\n",
    "tourismarrivalsdata=tourismarrivalsdata[tourismarrivalsdata['Country Name'] != 'Other small states']\n",
    "tourismarrivalsdata=tourismarrivalsdata[tourismarrivalsdata['Country Name'] != 'Pre-demographic dividend']\n",
    "tourismarrivalsdata=tourismarrivalsdata[tourismarrivalsdata['Country Name'] != 'Central Europe and the Baltics']\n",
    "tourismarrivalsdata=tourismarrivalsdata[tourismarrivalsdata['Country Name'] != 'IDA total']\n",
    "tourismarrivalsdata=tourismarrivalsdata[tourismarrivalsdata['Country Name'] != 'IDA blend']\n",
    "tourismarrivalsdata=tourismarrivalsdata[tourismarrivalsdata['Country Name'] != 'Least developed countries: UN classification']\n",
    "tourismarrivalsdata=tourismarrivalsdata[tourismarrivalsdata['Country Name'] != 'IDA only']"
   ]
  },
  {
   "cell_type": "code",
   "execution_count": 25,
   "metadata": {},
   "outputs": [],
   "source": [
    "tourismarrivalsdataSlope=tourismarrivalsdata.sort_values('slope', ascending=False)\n",
    "tourismarrivalsdataPercent=tourismarrivalsdata.sort_values('percent', ascending=False)"
   ]
  },
  {
   "cell_type": "code",
   "execution_count": null,
   "metadata": {},
   "outputs": [],
   "source": []
  },
  {
   "cell_type": "code",
   "execution_count": 27,
   "metadata": {},
   "outputs": [],
   "source": [
    "top5Slope = tourismarrivalsdataSlope.iloc[0:5, 0:10]\n",
    "top5tSlope = top5Slope.T\n",
    "top5Percent = tourismarrivalsdataPercent.iloc[0:5, 0:10]\n",
    "top5tPercent = top5Percent.T"
   ]
  },
  {
   "cell_type": "code",
   "execution_count": 29,
   "metadata": {},
   "outputs": [
    {
     "data": {
      "text/html": [
       "<div>\n",
       "<style scoped>\n",
       "    .dataframe tbody tr th:only-of-type {\n",
       "        vertical-align: middle;\n",
       "    }\n",
       "\n",
       "    .dataframe tbody tr th {\n",
       "        vertical-align: top;\n",
       "    }\n",
       "\n",
       "    .dataframe thead th {\n",
       "        text-align: right;\n",
       "    }\n",
       "</style>\n",
       "<table border=\"1\" class=\"dataframe\">\n",
       "  <thead>\n",
       "    <tr style=\"text-align: right;\">\n",
       "      <th></th>\n",
       "      <th>23</th>\n",
       "      <th>39</th>\n",
       "      <th>30</th>\n",
       "      <th>112</th>\n",
       "      <th>158</th>\n",
       "    </tr>\n",
       "  </thead>\n",
       "  <tbody>\n",
       "    <tr>\n",
       "      <th>2010</th>\n",
       "      <td>119300</td>\n",
       "      <td>252000</td>\n",
       "      <td>41000</td>\n",
       "      <td>489000</td>\n",
       "      <td>792000</td>\n",
       "    </tr>\n",
       "    <tr>\n",
       "      <th>2011</th>\n",
       "      <td>116000</td>\n",
       "      <td>270000</td>\n",
       "      <td>66000</td>\n",
       "      <td>566000</td>\n",
       "      <td>816000</td>\n",
       "    </tr>\n",
       "    <tr>\n",
       "      <th>2012</th>\n",
       "      <td>6.1299e+06</td>\n",
       "      <td>289000</td>\n",
       "      <td>105000</td>\n",
       "      <td>673000</td>\n",
       "      <td>1.059e+06</td>\n",
       "    </tr>\n",
       "    <tr>\n",
       "      <th>2013</th>\n",
       "      <td>6.2418e+06</td>\n",
       "      <td>380000</td>\n",
       "      <td>116000</td>\n",
       "      <td>807300</td>\n",
       "      <td>2.044e+06</td>\n",
       "    </tr>\n",
       "    <tr>\n",
       "      <th>2014</th>\n",
       "      <td>5.3749e+06</td>\n",
       "      <td>471000</td>\n",
       "      <td>133000</td>\n",
       "      <td>997600</td>\n",
       "      <td>3.081e+06</td>\n",
       "    </tr>\n",
       "    <tr>\n",
       "      <th>2015</th>\n",
       "      <td>4.3856e+06</td>\n",
       "      <td>1.441e+06</td>\n",
       "      <td>155000</td>\n",
       "      <td>1.289e+06</td>\n",
       "      <td>4.681e+06</td>\n",
       "    </tr>\n",
       "    <tr>\n",
       "      <th>2016</th>\n",
       "      <td>1.09354e+07</td>\n",
       "      <td>1.583e+06</td>\n",
       "      <td>210000</td>\n",
       "      <td>1.792e+06</td>\n",
       "      <td>2.907e+06</td>\n",
       "    </tr>\n",
       "    <tr>\n",
       "      <th>2017</th>\n",
       "      <td>1.10602e+07</td>\n",
       "      <td>1.8e+06</td>\n",
       "      <td>255000</td>\n",
       "      <td>2.225e+06</td>\n",
       "      <td>3.443e+06</td>\n",
       "    </tr>\n",
       "  </tbody>\n",
       "</table>\n",
       "</div>"
      ],
      "text/plain": [
       "              23         39      30         112        158\n",
       "2010       119300     252000   41000     489000     792000\n",
       "2011       116000     270000   66000     566000     816000\n",
       "2012   6.1299e+06     289000  105000     673000  1.059e+06\n",
       "2013   6.2418e+06     380000  116000     807300  2.044e+06\n",
       "2014   5.3749e+06     471000  133000     997600  3.081e+06\n",
       "2015   4.3856e+06  1.441e+06  155000  1.289e+06  4.681e+06\n",
       "2016  1.09354e+07  1.583e+06  210000  1.792e+06  2.907e+06\n",
       "2017  1.10602e+07    1.8e+06  255000  2.225e+06  3.443e+06"
      ]
     },
     "execution_count": 29,
     "metadata": {},
     "output_type": "execute_result"
    }
   ],
   "source": [
    "top5tdataSlope = top5tSlope[0:8]\n",
    "top5tdataSlope\n",
    "top5tdataPercent = top5tPercent[0:8]\n",
    "top5tdataPercent"
   ]
  },
  {
   "cell_type": "code",
   "execution_count": 30,
   "metadata": {},
   "outputs": [],
   "source": [
    "top5tdataSlope.columns  = top5Slope['Country Name']\n",
    "top5tdataPercent.columns  = top5Percent['Country Name']"
   ]
  },
  {
   "cell_type": "code",
   "execution_count": null,
   "metadata": {},
   "outputs": [],
   "source": []
  },
  {
   "cell_type": "code",
   "execution_count": 31,
   "metadata": {},
   "outputs": [
    {
     "data": {
      "text/plain": [
       "[Text(0, 0, '2010'),\n",
       " Text(0, 0, '2011'),\n",
       " Text(0, 0, '2012'),\n",
       " Text(0, 0, '2013'),\n",
       " Text(0, 0, '2014'),\n",
       " Text(0, 0, '2015'),\n",
       " Text(0, 0, '2016'),\n",
       " Text(0, 0, '2017')]"
      ]
     },
     "execution_count": 31,
     "metadata": {},
     "output_type": "execute_result"
    },
    {
     "data": {
      "image/png": "[encoded data removed]",
      "text/plain": [
       "<Figure size 432x288 with 1 Axes>"
      ]
     },
     "metadata": {
      "needs_background": "light"
     },
     "output_type": "display_data"
    }
   ],
   "source": [
    "ax = top5tdataSlope.plot()\n",
    "ax.set_xlabel(\"Years\")\n",
    "ax.set_ylabel(\"Tourism Arrivals Highest Rate of Change\")\n",
    "ax.set_xticklabels(top5tdataSlope.index, rotation=0)"
   ]
  },
  {
   "cell_type": "code",
   "execution_count": 33,
   "metadata": {},
   "outputs": [
    {
     "data": {
      "text/plain": [
       "[Text(0, 0, '2010'),\n",
       " Text(0, 0, '2011'),\n",
       " Text(0, 0, '2012'),\n",
       " Text(0, 0, '2013'),\n",
       " Text(0, 0, '2014'),\n",
       " Text(0, 0, '2015'),\n",
       " Text(0, 0, '2016'),\n",
       " Text(0, 0, '2017')]"
      ]
     },
     "execution_count": 33,
     "metadata": {},
     "output_type": "execute_result"
    },
    {
     "data": {
      "image/png": "[encoded data removed]",
      "text/plain": [
       "<Figure size 432x288 with 1 Axes>"
      ]
     },
     "metadata": {
      "needs_background": "light"
     },
     "output_type": "display_data"
    }
   ],
   "source": [
    "ax = top5tdataPercent.plot()\n",
    "ax.set_xlabel(\"Years\")\n",
    "ax.set_ylabel(\"Tourism Arrivals (%) Increase\")\n",
    "ax.set_xticklabels(top5tdataPercent.index, rotation=0)"
   ]
  },
  {
   "cell_type": "code",
   "execution_count": null,
   "metadata": {},
   "outputs": [],
   "source": []
  }
 ],
 "metadata": {
  "kernelspec": {
   "display_name": "Python 3",
   "language": "python",
   "name": "python3"
  },
  "language_info": {
   "codemirror_mode": {
    "name": "ipython",
    "version": 3
   },
   "file_extension": ".py",
   "mimetype": "text/x-python",
   "name": "python",
   "nbconvert_exporter": "python",
   "pygments_lexer": "ipython3",
   "version": "3.7.1"
  }
 },
 "nbformat": 4,
 "nbformat_minor": 2
}
