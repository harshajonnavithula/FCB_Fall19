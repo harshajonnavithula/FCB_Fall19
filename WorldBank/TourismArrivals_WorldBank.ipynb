{
 "cells": [
  {
   "cell_type": "code",
   "execution_count": 1,
   "metadata": {},
   "outputs": [],
   "source": [
    "import pandas\n",
    "tourismarrivals = pandas.read_csv('InternationalTourismNumberOfArrivals.csv')\n",
    "tourismarrivalscountry=tourismarrivals.iloc[:,0:1]\n",
    "tourismarrivalsdata = tourismarrivals.iloc[:, 54:62]\n",
    "tourismarrivalsdata = tourismarrivalsdata.dropna()\n",
    "tourismarrivalsdata = tourismarrivalsdata.join(tourismarrivalscountry)\n",
    "tourismarrivalsdata.to_csv('TourismArrivalsCLEANED.csv')"
   ]
  },
  {
   "cell_type": "code",
   "execution_count": null,
   "metadata": {},
   "outputs": [],
   "source": []
  }
 ],
 "metadata": {
  "kernelspec": {
   "display_name": "Python 3",
   "language": "python",
   "name": "python3"
  },
  "language_info": {
   "codemirror_mode": {
    "name": "ipython",
    "version": 3
   },
   "file_extension": ".py",
   "mimetype": "text/x-python",
   "name": "python",
   "nbconvert_exporter": "python",
   "pygments_lexer": "ipython3",
   "version": "3.7.1"
  }
 },
 "nbformat": 4,
 "nbformat_minor": 2
}
