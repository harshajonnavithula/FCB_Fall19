{
 "cells": [
  {
   "cell_type": "code",
   "execution_count": 2,
   "metadata": {},
   "outputs": [],
   "source": [
    "import pandas\n",
    "foodexports = pandas.read_csv('FoodExports.csv')\n",
    "foodexportscountry=foodexports.iloc[:,0:1]\n",
    "foodexportsdata = foodexports.iloc[:, 54:]\n",
    "foodexportsdata = foodexportsdata.dropna()\n",
    "foodexportsdata = foodexportsdata.join(foodexportscountry)\n",
    "foodexportsdata.to_csv('FoodExportsCLEANED.csv')"
   ]
  },
  {
   "cell_type": "code",
   "execution_count": 5,
   "metadata": {},
   "outputs": [],
   "source": [
    "foodexportsdata['slope'] = (foodexportsdata['2018']-foodexportsdata['2010'])/8"
   ]
  },
  {
   "cell_type": "code",
   "execution_count": 20,
   "metadata": {},
   "outputs": [],
   "source": [
    "foodexportsdata=foodexportsdata.sort_values('slope', ascending=False)"
   ]
  },
  {
   "cell_type": "code",
   "execution_count": 21,
   "metadata": {},
   "outputs": [],
   "source": [
    "top5 = foodexportsdata.iloc[0:5, 0:10]\n",
    "top5t = top5.T"
   ]
  },
  {
   "cell_type": "code",
   "execution_count": 22,
   "metadata": {},
   "outputs": [
    {
     "data": {
      "text/html": [
       "<div>\n",
       "<style scoped>\n",
       "    .dataframe tbody tr th:only-of-type {\n",
       "        vertical-align: middle;\n",
       "    }\n",
       "\n",
       "    .dataframe tbody tr th {\n",
       "        vertical-align: top;\n",
       "    }\n",
       "\n",
       "    .dataframe thead th {\n",
       "        text-align: right;\n",
       "    }\n",
       "</style>\n",
       "<table border=\"1\" class=\"dataframe\">\n",
       "  <thead>\n",
       "    <tr style=\"text-align: right;\">\n",
       "      <th></th>\n",
       "      <th>258</th>\n",
       "      <th>24</th>\n",
       "      <th>218</th>\n",
       "      <th>246</th>\n",
       "      <th>64</th>\n",
       "    </tr>\n",
       "  </thead>\n",
       "  <tbody>\n",
       "    <tr>\n",
       "      <th>2010</th>\n",
       "      <td>21.0349</td>\n",
       "      <td>60.861</td>\n",
       "      <td>2.37869</td>\n",
       "      <td>19.2032</td>\n",
       "      <td>30.0127</td>\n",
       "    </tr>\n",
       "    <tr>\n",
       "      <th>2011</th>\n",
       "      <td>31.5739</td>\n",
       "      <td>53.4967</td>\n",
       "      <td>1.81561</td>\n",
       "      <td>18.6414</td>\n",
       "      <td>29.995</td>\n",
       "    </tr>\n",
       "    <tr>\n",
       "      <th>2012</th>\n",
       "      <td>30.59</td>\n",
       "      <td>68.6337</td>\n",
       "      <td>3.55652</td>\n",
       "      <td>25.8838</td>\n",
       "      <td>28.5585</td>\n",
       "    </tr>\n",
       "    <tr>\n",
       "      <th>2013</th>\n",
       "      <td>31.8341</td>\n",
       "      <td>76.922</td>\n",
       "      <td>2.33703</td>\n",
       "      <td>26.7848</td>\n",
       "      <td>31.1434</td>\n",
       "    </tr>\n",
       "    <tr>\n",
       "      <th>2014</th>\n",
       "      <td>34.1293</td>\n",
       "      <td>63.9132</td>\n",
       "      <td>3.31965</td>\n",
       "      <td>30.7253</td>\n",
       "      <td>35.1667</td>\n",
       "    </tr>\n",
       "    <tr>\n",
       "      <th>2015</th>\n",
       "      <td>43.3981</td>\n",
       "      <td>70.3662</td>\n",
       "      <td>9.82927</td>\n",
       "      <td>37.968</td>\n",
       "      <td>47.7625</td>\n",
       "    </tr>\n",
       "    <tr>\n",
       "      <th>2016</th>\n",
       "      <td>47.6872</td>\n",
       "      <td>71.1332</td>\n",
       "      <td>31.0007</td>\n",
       "      <td>41.8771</td>\n",
       "      <td>52.2249</td>\n",
       "    </tr>\n",
       "    <tr>\n",
       "      <th>2017</th>\n",
       "      <td>56.0016</td>\n",
       "      <td>84.5836</td>\n",
       "      <td>28.5712</td>\n",
       "      <td>40.8056</td>\n",
       "      <td>50.2662</td>\n",
       "    </tr>\n",
       "    <tr>\n",
       "      <th>2018</th>\n",
       "      <td>62.1451</td>\n",
       "      <td>86.5348</td>\n",
       "      <td>23.597</td>\n",
       "      <td>39.1406</td>\n",
       "      <td>46.7812</td>\n",
       "    </tr>\n",
       "  </tbody>\n",
       "</table>\n",
       "</div>"
      ],
      "text/plain": [
       "          258      24       218      246      64 \n",
       "2010  21.0349   60.861  2.37869  19.2032  30.0127\n",
       "2011  31.5739  53.4967  1.81561  18.6414   29.995\n",
       "2012    30.59  68.6337  3.55652  25.8838  28.5585\n",
       "2013  31.8341   76.922  2.33703  26.7848  31.1434\n",
       "2014  34.1293  63.9132  3.31965  30.7253  35.1667\n",
       "2015  43.3981  70.3662  9.82927   37.968  47.7625\n",
       "2016  47.6872  71.1332  31.0007  41.8771  52.2249\n",
       "2017  56.0016  84.5836  28.5712  40.8056  50.2662\n",
       "2018  62.1451  86.5348   23.597  39.1406  46.7812"
      ]
     },
     "execution_count": 22,
     "metadata": {},
     "output_type": "execute_result"
    }
   ],
   "source": [
    "top5tdata = top5t[0:9]\n",
    "top5tdata"
   ]
  },
  {
   "cell_type": "code",
   "execution_count": 23,
   "metadata": {},
   "outputs": [],
   "source": [
    "top5tdata.columns  = top5['Country Name']"
   ]
  },
  {
   "cell_type": "code",
   "execution_count": 24,
   "metadata": {},
   "outputs": [
    {
     "data": {
      "text/html": [
       "<div>\n",
       "<style scoped>\n",
       "    .dataframe tbody tr th:only-of-type {\n",
       "        vertical-align: middle;\n",
       "    }\n",
       "\n",
       "    .dataframe tbody tr th {\n",
       "        vertical-align: top;\n",
       "    }\n",
       "\n",
       "    .dataframe thead th {\n",
       "        text-align: right;\n",
       "    }\n",
       "</style>\n",
       "<table border=\"1\" class=\"dataframe\">\n",
       "  <thead>\n",
       "    <tr style=\"text-align: right;\">\n",
       "      <th>Country Name</th>\n",
       "      <th>Samoa</th>\n",
       "      <th>Belize</th>\n",
       "      <th>Suriname</th>\n",
       "      <th>Ukraine</th>\n",
       "      <th>Ecuador</th>\n",
       "    </tr>\n",
       "  </thead>\n",
       "  <tbody>\n",
       "    <tr>\n",
       "      <th>2010</th>\n",
       "      <td>21.0349</td>\n",
       "      <td>60.861</td>\n",
       "      <td>2.37869</td>\n",
       "      <td>19.2032</td>\n",
       "      <td>30.0127</td>\n",
       "    </tr>\n",
       "    <tr>\n",
       "      <th>2011</th>\n",
       "      <td>31.5739</td>\n",
       "      <td>53.4967</td>\n",
       "      <td>1.81561</td>\n",
       "      <td>18.6414</td>\n",
       "      <td>29.995</td>\n",
       "    </tr>\n",
       "    <tr>\n",
       "      <th>2012</th>\n",
       "      <td>30.59</td>\n",
       "      <td>68.6337</td>\n",
       "      <td>3.55652</td>\n",
       "      <td>25.8838</td>\n",
       "      <td>28.5585</td>\n",
       "    </tr>\n",
       "    <tr>\n",
       "      <th>2013</th>\n",
       "      <td>31.8341</td>\n",
       "      <td>76.922</td>\n",
       "      <td>2.33703</td>\n",
       "      <td>26.7848</td>\n",
       "      <td>31.1434</td>\n",
       "    </tr>\n",
       "    <tr>\n",
       "      <th>2014</th>\n",
       "      <td>34.1293</td>\n",
       "      <td>63.9132</td>\n",
       "      <td>3.31965</td>\n",
       "      <td>30.7253</td>\n",
       "      <td>35.1667</td>\n",
       "    </tr>\n",
       "    <tr>\n",
       "      <th>2015</th>\n",
       "      <td>43.3981</td>\n",
       "      <td>70.3662</td>\n",
       "      <td>9.82927</td>\n",
       "      <td>37.968</td>\n",
       "      <td>47.7625</td>\n",
       "    </tr>\n",
       "    <tr>\n",
       "      <th>2016</th>\n",
       "      <td>47.6872</td>\n",
       "      <td>71.1332</td>\n",
       "      <td>31.0007</td>\n",
       "      <td>41.8771</td>\n",
       "      <td>52.2249</td>\n",
       "    </tr>\n",
       "    <tr>\n",
       "      <th>2017</th>\n",
       "      <td>56.0016</td>\n",
       "      <td>84.5836</td>\n",
       "      <td>28.5712</td>\n",
       "      <td>40.8056</td>\n",
       "      <td>50.2662</td>\n",
       "    </tr>\n",
       "    <tr>\n",
       "      <th>2018</th>\n",
       "      <td>62.1451</td>\n",
       "      <td>86.5348</td>\n",
       "      <td>23.597</td>\n",
       "      <td>39.1406</td>\n",
       "      <td>46.7812</td>\n",
       "    </tr>\n",
       "  </tbody>\n",
       "</table>\n",
       "</div>"
      ],
      "text/plain": [
       "Country Name    Samoa   Belize Suriname  Ukraine  Ecuador\n",
       "2010          21.0349   60.861  2.37869  19.2032  30.0127\n",
       "2011          31.5739  53.4967  1.81561  18.6414   29.995\n",
       "2012            30.59  68.6337  3.55652  25.8838  28.5585\n",
       "2013          31.8341   76.922  2.33703  26.7848  31.1434\n",
       "2014          34.1293  63.9132  3.31965  30.7253  35.1667\n",
       "2015          43.3981  70.3662  9.82927   37.968  47.7625\n",
       "2016          47.6872  71.1332  31.0007  41.8771  52.2249\n",
       "2017          56.0016  84.5836  28.5712  40.8056  50.2662\n",
       "2018          62.1451  86.5348   23.597  39.1406  46.7812"
      ]
     },
     "execution_count": 24,
     "metadata": {},
     "output_type": "execute_result"
    }
   ],
   "source": [
    "top5tdata"
   ]
  },
  {
   "cell_type": "code",
   "execution_count": 26,
   "metadata": {},
   "outputs": [
    {
     "data": {
      "text/plain": [
       "[Text(0, 0, '2010'),\n",
       " Text(0, 0, '2011'),\n",
       " Text(0, 0, '2012'),\n",
       " Text(0, 0, '2013'),\n",
       " Text(0, 0, '2014'),\n",
       " Text(0, 0, '2015'),\n",
       " Text(0, 0, '2016'),\n",
       " Text(0, 0, '2017'),\n",
       " Text(0, 0, '2018')]"
      ]
     },
     "execution_count": 26,
     "metadata": {},
     "output_type": "execute_result"
    },
    {
     "data": {
      "image/png": "[encoded data removed]",
      "text/plain": [
       "<Figure size 432x288 with 1 Axes>"
      ]
     },
     "metadata": {
      "needs_background": "light"
     },
     "output_type": "display_data"
    }
   ],
   "source": [
    "ax = top5tdata.plot()\n",
    "ax.set_xlabel(\"Years\")\n",
    "ax.set_ylabel(\"FoodExports(%)\")\n",
    "ax.set_xticklabels(top5tdata.index, rotation=0)"
   ]
  },
  {
   "cell_type": "code",
   "execution_count": null,
   "metadata": {},
   "outputs": [],
   "source": []
  }
 ],
 "metadata": {
  "kernelspec": {
   "display_name": "Python 3",
   "language": "python",
   "name": "python3"
  },
  "language_info": {
   "codemirror_mode": {
    "name": "ipython",
    "version": 3
   },
   "file_extension": ".py",
   "mimetype": "text/x-python",
   "name": "python",
   "nbconvert_exporter": "python",
   "pygments_lexer": "ipython3",
   "version": "3.7.1"
  }
 },
 "nbformat": 4,
 "nbformat_minor": 2
}
