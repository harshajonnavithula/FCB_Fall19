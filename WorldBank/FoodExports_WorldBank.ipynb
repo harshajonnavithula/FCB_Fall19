{
 "cells": [
  {
   "cell_type": "code",
   "execution_count": 1,
   "metadata": {},
   "outputs": [],
   "source": [
    "import pandas\n",
    "foodexports = pandas.read_csv('FoodExports.csv')\n",
    "foodexportscountry=foodexports.iloc[:,0:1]\n",
    "foodexportsdata = foodexports.iloc[:, 54:]\n",
    "foodexportsdata = foodexportsdata.dropna()\n",
    "foodexportsdata = foodexportsdata.join(foodexportscountry)\n",
    "foodexportsdata.to_csv('FoodExportsCLEANED.csv')"
   ]
  },
  {
   "cell_type": "code",
   "execution_count": null,
   "metadata": {},
   "outputs": [],
   "source": []
  }
 ],
 "metadata": {
  "kernelspec": {
   "display_name": "Python 3",
   "language": "python",
   "name": "python3"
  },
  "language_info": {
   "codemirror_mode": {
    "name": "ipython",
    "version": 3
   },
   "file_extension": ".py",
   "mimetype": "text/x-python",
   "name": "python",
   "nbconvert_exporter": "python",
   "pygments_lexer": "ipython3",
   "version": "3.7.1"
  }
 },
 "nbformat": 4,
 "nbformat_minor": 2
}
