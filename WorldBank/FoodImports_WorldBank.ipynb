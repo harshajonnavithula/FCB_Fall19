{
 "cells": [
  {
   "cell_type": "code",
   "execution_count": 2,
   "metadata": {},
   "outputs": [],
   "source": [
    "import pandas\n",
    "foodimports = pandas.read_csv('FoodImports.csv')\n",
    "foodimportscountry=foodimports.iloc[:,0:1]\n",
    "foodimportsdata = foodimports.iloc[:, 54:]\n",
    "foodimportsdata = foodimportsdata.dropna()\n",
    "foodimportsdata = foodimportsdata.join(foodimportscountry)\n",
    "foodimportsdata.to_csv('FoodImportsCLEANED.csv')"
   ]
  },
  {
   "cell_type": "code",
   "execution_count": 3,
   "metadata": {},
   "outputs": [],
   "source": [
    "foodimportsdata['slope'] = (foodimportsdata['2018']-foodimportsdata['2010'])/8"
   ]
  },
  {
   "cell_type": "code",
   "execution_count": 4,
   "metadata": {},
   "outputs": [],
   "source": [
    "foodimportsdata=foodimportsdata.sort_values('slope', ascending=False)"
   ]
  },
  {
   "cell_type": "code",
   "execution_count": 5,
   "metadata": {},
   "outputs": [],
   "source": [
    "top5 = foodimportsdata.iloc[0:5, 0:10]\n",
    "top5t = top5.T"
   ]
  },
  {
   "cell_type": "code",
   "execution_count": 6,
   "metadata": {},
   "outputs": [
    {
     "data": {
      "text/html": [
       "<div>\n",
       "<style scoped>\n",
       "    .dataframe tbody tr th:only-of-type {\n",
       "        vertical-align: middle;\n",
       "    }\n",
       "\n",
       "    .dataframe tbody tr th {\n",
       "        vertical-align: top;\n",
       "    }\n",
       "\n",
       "    .dataframe thead th {\n",
       "        text-align: right;\n",
       "    }\n",
       "</style>\n",
       "<table border=\"1\" class=\"dataframe\">\n",
       "  <thead>\n",
       "    <tr style=\"text-align: right;\">\n",
       "      <th></th>\n",
       "      <th>224</th>\n",
       "      <th>25</th>\n",
       "      <th>10</th>\n",
       "      <th>248</th>\n",
       "      <th>158</th>\n",
       "    </tr>\n",
       "  </thead>\n",
       "  <tbody>\n",
       "    <tr>\n",
       "      <th>2010</th>\n",
       "      <td>17.0458</td>\n",
       "      <td>13.0651</td>\n",
       "      <td>21.3463</td>\n",
       "      <td>9.51013</td>\n",
       "      <td>8.30456</td>\n",
       "    </tr>\n",
       "    <tr>\n",
       "      <th>2011</th>\n",
       "      <td>14.9236</td>\n",
       "      <td>16.9279</td>\n",
       "      <td>23.9187</td>\n",
       "      <td>10.8758</td>\n",
       "      <td>9.13535</td>\n",
       "    </tr>\n",
       "    <tr>\n",
       "      <th>2012</th>\n",
       "      <td>20.8695</td>\n",
       "      <td>20.5957</td>\n",
       "      <td>37.3406</td>\n",
       "      <td>9.36749</td>\n",
       "      <td>12.1446</td>\n",
       "    </tr>\n",
       "    <tr>\n",
       "      <th>2013</th>\n",
       "      <td>27.7275</td>\n",
       "      <td>19.1694</td>\n",
       "      <td>35.5882</td>\n",
       "      <td>11.2763</td>\n",
       "      <td>8.41018</td>\n",
       "    </tr>\n",
       "    <tr>\n",
       "      <th>2014</th>\n",
       "      <td>23.858</td>\n",
       "      <td>20.7747</td>\n",
       "      <td>22.5416</td>\n",
       "      <td>11.0727</td>\n",
       "      <td>9.06593</td>\n",
       "    </tr>\n",
       "    <tr>\n",
       "      <th>2015</th>\n",
       "      <td>24.5013</td>\n",
       "      <td>20.683</td>\n",
       "      <td>27.0534</td>\n",
       "      <td>12.8386</td>\n",
       "      <td>11.1391</td>\n",
       "    </tr>\n",
       "    <tr>\n",
       "      <th>2016</th>\n",
       "      <td>18.372</td>\n",
       "      <td>21.0138</td>\n",
       "      <td>22.9924</td>\n",
       "      <td>13.293</td>\n",
       "      <td>18.7942</td>\n",
       "    </tr>\n",
       "    <tr>\n",
       "      <th>2017</th>\n",
       "      <td>24.6931</td>\n",
       "      <td>20.3913</td>\n",
       "      <td>23.0319</td>\n",
       "      <td>13.3035</td>\n",
       "      <td>14.6576</td>\n",
       "    </tr>\n",
       "    <tr>\n",
       "      <th>2018</th>\n",
       "      <td>27.5615</td>\n",
       "      <td>20.7645</td>\n",
       "      <td>27.8384</td>\n",
       "      <td>14.5744</td>\n",
       "      <td>13.0616</td>\n",
       "    </tr>\n",
       "  </tbody>\n",
       "</table>\n",
       "</div>"
      ],
      "text/plain": [
       "          224      25       10       248      158\n",
       "2010  17.0458  13.0651  21.3463  9.51013  8.30456\n",
       "2011  14.9236  16.9279  23.9187  10.8758  9.13535\n",
       "2012  20.8695  20.5957  37.3406  9.36749  12.1446\n",
       "2013  27.7275  19.1694  35.5882  11.2763  8.41018\n",
       "2014   23.858  20.7747  22.5416  11.0727  9.06593\n",
       "2015  24.5013   20.683  27.0534  12.8386  11.1391\n",
       "2016   18.372  21.0138  22.9924   13.293  18.7942\n",
       "2017  24.6931  20.3913  23.0319  13.3035  14.6576\n",
       "2018  27.5615  20.7645  27.8384  14.5744  13.0616"
      ]
     },
     "execution_count": 6,
     "metadata": {},
     "output_type": "execute_result"
    }
   ],
   "source": [
    "top5tdata = top5t[0:9]\n",
    "top5tdata"
   ]
  },
  {
   "cell_type": "code",
   "execution_count": 7,
   "metadata": {},
   "outputs": [],
   "source": [
    "top5tdata.columns  = top5['Country Name']"
   ]
  },
  {
   "cell_type": "code",
   "execution_count": 8,
   "metadata": {},
   "outputs": [
    {
     "data": {
      "text/html": [
       "<div>\n",
       "<style scoped>\n",
       "    .dataframe tbody tr th:only-of-type {\n",
       "        vertical-align: middle;\n",
       "    }\n",
       "\n",
       "    .dataframe tbody tr th {\n",
       "        vertical-align: top;\n",
       "    }\n",
       "\n",
       "    .dataframe thead th {\n",
       "        text-align: right;\n",
       "    }\n",
       "</style>\n",
       "<table border=\"1\" class=\"dataframe\">\n",
       "  <thead>\n",
       "    <tr style=\"text-align: right;\">\n",
       "      <th>Country Name</th>\n",
       "      <th>Seychelles</th>\n",
       "      <th>Bermuda</th>\n",
       "      <th>Antigua and Barbuda</th>\n",
       "      <th>Uruguay</th>\n",
       "      <th>Myanmar</th>\n",
       "    </tr>\n",
       "  </thead>\n",
       "  <tbody>\n",
       "    <tr>\n",
       "      <th>2010</th>\n",
       "      <td>17.0458</td>\n",
       "      <td>13.0651</td>\n",
       "      <td>21.3463</td>\n",
       "      <td>9.51013</td>\n",
       "      <td>8.30456</td>\n",
       "    </tr>\n",
       "    <tr>\n",
       "      <th>2011</th>\n",
       "      <td>14.9236</td>\n",
       "      <td>16.9279</td>\n",
       "      <td>23.9187</td>\n",
       "      <td>10.8758</td>\n",
       "      <td>9.13535</td>\n",
       "    </tr>\n",
       "    <tr>\n",
       "      <th>2012</th>\n",
       "      <td>20.8695</td>\n",
       "      <td>20.5957</td>\n",
       "      <td>37.3406</td>\n",
       "      <td>9.36749</td>\n",
       "      <td>12.1446</td>\n",
       "    </tr>\n",
       "    <tr>\n",
       "      <th>2013</th>\n",
       "      <td>27.7275</td>\n",
       "      <td>19.1694</td>\n",
       "      <td>35.5882</td>\n",
       "      <td>11.2763</td>\n",
       "      <td>8.41018</td>\n",
       "    </tr>\n",
       "    <tr>\n",
       "      <th>2014</th>\n",
       "      <td>23.858</td>\n",
       "      <td>20.7747</td>\n",
       "      <td>22.5416</td>\n",
       "      <td>11.0727</td>\n",
       "      <td>9.06593</td>\n",
       "    </tr>\n",
       "    <tr>\n",
       "      <th>2015</th>\n",
       "      <td>24.5013</td>\n",
       "      <td>20.683</td>\n",
       "      <td>27.0534</td>\n",
       "      <td>12.8386</td>\n",
       "      <td>11.1391</td>\n",
       "    </tr>\n",
       "    <tr>\n",
       "      <th>2016</th>\n",
       "      <td>18.372</td>\n",
       "      <td>21.0138</td>\n",
       "      <td>22.9924</td>\n",
       "      <td>13.293</td>\n",
       "      <td>18.7942</td>\n",
       "    </tr>\n",
       "    <tr>\n",
       "      <th>2017</th>\n",
       "      <td>24.6931</td>\n",
       "      <td>20.3913</td>\n",
       "      <td>23.0319</td>\n",
       "      <td>13.3035</td>\n",
       "      <td>14.6576</td>\n",
       "    </tr>\n",
       "    <tr>\n",
       "      <th>2018</th>\n",
       "      <td>27.5615</td>\n",
       "      <td>20.7645</td>\n",
       "      <td>27.8384</td>\n",
       "      <td>14.5744</td>\n",
       "      <td>13.0616</td>\n",
       "    </tr>\n",
       "  </tbody>\n",
       "</table>\n",
       "</div>"
      ],
      "text/plain": [
       "Country Name Seychelles  Bermuda Antigua and Barbuda  Uruguay  Myanmar\n",
       "2010            17.0458  13.0651             21.3463  9.51013  8.30456\n",
       "2011            14.9236  16.9279             23.9187  10.8758  9.13535\n",
       "2012            20.8695  20.5957             37.3406  9.36749  12.1446\n",
       "2013            27.7275  19.1694             35.5882  11.2763  8.41018\n",
       "2014             23.858  20.7747             22.5416  11.0727  9.06593\n",
       "2015            24.5013   20.683             27.0534  12.8386  11.1391\n",
       "2016             18.372  21.0138             22.9924   13.293  18.7942\n",
       "2017            24.6931  20.3913             23.0319  13.3035  14.6576\n",
       "2018            27.5615  20.7645             27.8384  14.5744  13.0616"
      ]
     },
     "execution_count": 8,
     "metadata": {},
     "output_type": "execute_result"
    }
   ],
   "source": [
    "top5tdata"
   ]
  },
  {
   "cell_type": "code",
   "execution_count": 10,
   "metadata": {},
   "outputs": [
    {
     "data": {
      "text/plain": [
       "[Text(0, 0, '2010'),\n",
       " Text(0, 0, '2011'),\n",
       " Text(0, 0, '2012'),\n",
       " Text(0, 0, '2013'),\n",
       " Text(0, 0, '2014'),\n",
       " Text(0, 0, '2015'),\n",
       " Text(0, 0, '2016'),\n",
       " Text(0, 0, '2017'),\n",
       " Text(0, 0, '2018')]"
      ]
     },
     "execution_count": 10,
     "metadata": {},
     "output_type": "execute_result"
    },
    {
     "data": {
      "image/png": "[encoded data removed]",
      "text/plain": [
       "<Figure size 432x288 with 1 Axes>"
      ]
     },
     "metadata": {
      "needs_background": "light"
     },
     "output_type": "display_data"
    }
   ],
   "source": [
    "ax = top5tdata.plot()\n",
    "ax.set_xlabel(\"Years\")\n",
    "ax.set_ylabel(\"FoodImports(%)\")\n",
    "ax.set_xticklabels(top5tdata.index, rotation=0)"
   ]
  },
  {
   "cell_type": "code",
   "execution_count": null,
   "metadata": {},
   "outputs": [],
   "source": []
  }
 ],
 "metadata": {
  "kernelspec": {
   "display_name": "Python 3",
   "language": "python",
   "name": "python3"
  },
  "language_info": {
   "codemirror_mode": {
    "name": "ipython",
    "version": 3
   },
   "file_extension": ".py",
   "mimetype": "text/x-python",
   "name": "python",
   "nbconvert_exporter": "python",
   "pygments_lexer": "ipython3",
   "version": "3.7.1"
  }
 },
 "nbformat": 4,
 "nbformat_minor": 2
}
