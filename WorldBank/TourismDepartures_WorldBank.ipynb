{
 "cells": [
  {
   "cell_type": "code",
   "execution_count": 12,
   "metadata": {},
   "outputs": [],
   "source": [
    "import pandas\n",
    "tourismdepartures = pandas.read_csv('InternationalTourismNumberOfDepartures.csv')\n",
    "tourismdeparturescountry=tourismdepartures.iloc[:,0:1]\n",
    "tourismdeparturesdata = tourismdepartures.iloc[:, 54:62]\n",
    "tourismdeparturesdata = tourismdeparturesdata.dropna()\n",
    "tourismdeparturesdata = tourismdeparturesdata.join(tourismdeparturescountry)\n",
    "tourismdeparturesdata.to_csv('TourismDeparturesDataCLEANED.csv')"
   ]
  },
  {
   "cell_type": "code",
   "execution_count": 13,
   "metadata": {},
   "outputs": [],
   "source": [
    "tourismdeparturesdata['slope'] = (tourismdeparturesdata['2017']-tourismdeparturesdata['2010'])/7"
   ]
  },
  {
   "cell_type": "code",
   "execution_count": 14,
   "metadata": {},
   "outputs": [],
   "source": [
    "tourismdeparturesdata=tourismdeparturesdata[tourismdeparturesdata['Country Name'] != 'World']\n",
    "tourismdeparturesdata=tourismdeparturesdata[tourismdeparturesdata['Country Name'] != 'IDA & IBRD total']\n",
    "tourismdeparturesdata=tourismdeparturesdata[tourismdeparturesdata['Country Name'] != 'Middle income']\n",
    "tourismdeparturesdata=tourismdeparturesdata[tourismdeparturesdata['Country Name'] != 'Low & middle income']\n",
    "tourismdeparturesdata=tourismdeparturesdata[tourismdeparturesdata['Country Name'] != 'IBRD only']\n",
    "tourismdeparturesdata=tourismdeparturesdata[tourismdeparturesdata['Country Name'] != 'Late-demographic dividend']\n",
    "tourismdeparturesdata=tourismdeparturesdata[tourismdeparturesdata['Country Name'] != 'Upper middle income']\n",
    "tourismdeparturesdata=tourismdeparturesdata[tourismdeparturesdata['Country Name'] != 'East Asia & Pacific']\n",
    "tourismdeparturesdata=tourismdeparturesdata[tourismdeparturesdata['Country Name'] != 'East Asia & Pacific (excluding high income)']\n",
    "tourismdeparturesdata=tourismdeparturesdata[tourismdeparturesdata['Country Name'] != 'East Asia & Pacific (IDA & IBRD countries)']\n",
    "tourismdeparturesdata=tourismdeparturesdata[tourismdeparturesdata['Country Name'] != 'High income']\n",
    "tourismdeparturesdata=tourismdeparturesdata[tourismdeparturesdata['Country Name'] != 'Post-demographic dividend']\n",
    "tourismdeparturesdata=tourismdeparturesdata[tourismdeparturesdata['Country Name'] != 'OECD members']\n",
    "tourismdeparturesdata=tourismdeparturesdata[tourismdeparturesdata['Country Name'] != 'Europe & Central Asia']\n",
    "tourismdeparturesdata=tourismdeparturesdata[tourismdeparturesdata['Country Name'] != 'North America']\n",
    "tourismdeparturesdata=tourismdeparturesdata[tourismdeparturesdata['Country Name'] != 'Early-demographic dividend']\n",
    "tourismdeparturesdata=tourismdeparturesdata[tourismdeparturesdata['Country Name'] != 'European Union']\n",
    "tourismdeparturesdata=tourismdeparturesdata[tourismdeparturesdata['Country Name'] != 'Lower middle income']\n",
    "tourismdeparturesdata=tourismdeparturesdata[tourismdeparturesdata['Country Name'] != 'Euro area']\n",
    "tourismdeparturesdata=tourismdeparturesdata[tourismdeparturesdata['Country Name'] != 'Middle East & North Africa']\n",
    "tourismdeparturesdata=tourismdeparturesdata[tourismdeparturesdata['Country Name'] != 'Latin America & the Caribbean (IDA & IBRD countries)']\n",
    "tourismdeparturesdata=tourismdeparturesdata[tourismdeparturesdata['Country Name'] != 'Latin America & Caribbean']\n",
    "tourismdeparturesdata=tourismdeparturesdata[tourismdeparturesdata['Country Name'] != 'Arab World']\n",
    "tourismdeparturesdata=tourismdeparturesdata[tourismdeparturesdata['Country Name'] != 'Latin America & Caribbean (excluding high income)']\n",
    "tourismdeparturesdata=tourismdeparturesdata[tourismdeparturesdata['Country Name'] != 'Europe & Central Asia (IDA & IBRD countries)']\n",
    "tourismdeparturesdata=tourismdeparturesdata[tourismdeparturesdata['Country Name'] != 'Europe & Central Asia (excluding high income)']\n",
    "tourismdeparturesdata=tourismdeparturesdata[tourismdeparturesdata['Country Name'] != 'Small states']\n",
    "tourismdeparturesdata=tourismdeparturesdata[tourismdeparturesdata['Country Name'] != 'South Asia (IDA & IBRD)']\n",
    "tourismdeparturesdata=tourismdeparturesdata[tourismdeparturesdata['Country Name'] != 'South Asia']\n",
    "tourismdeparturesdata=tourismdeparturesdata[tourismdeparturesdata['Country Name'] != 'Other small states']\n",
    "tourismdeparturesdata=tourismdeparturesdata[tourismdeparturesdata['Country Name'] != 'Pre-demographic dividend']\n",
    "tourismdeparturesdata=tourismdeparturesdata[tourismdeparturesdata['Country Name'] != 'Central Europe and the Baltics']\n",
    "tourismdeparturesdata=tourismdeparturesdata[tourismdeparturesdata['Country Name'] != 'IDA total']\n",
    "tourismdeparturesdata=tourismdeparturesdata[tourismdeparturesdata['Country Name'] != 'IDA blend']\n",
    "tourismdeparturesdata=tourismdeparturesdata[tourismdeparturesdata['Country Name'] != 'Least developed countries: UN classification']\n",
    "tourismdeparturesdata=tourismdeparturesdata[tourismdeparturesdata['Country Name'] != 'IDA only']\n"
   ]
  },
  {
   "cell_type": "code",
   "execution_count": 15,
   "metadata": {},
   "outputs": [],
   "source": [
    "tourismdeparturesdata=tourismdeparturesdata.sort_values('slope', ascending=False)"
   ]
  },
  {
   "cell_type": "code",
   "execution_count": 16,
   "metadata": {},
   "outputs": [],
   "source": [
    "top5 = tourismdeparturesdata.iloc[0:5, 0:10]\n",
    "top5t = top5.T"
   ]
  },
  {
   "cell_type": "code",
   "execution_count": 17,
   "metadata": {},
   "outputs": [
    {
     "data": {
      "text/html": [
       "<div>\n",
       "<style scoped>\n",
       "    .dataframe tbody tr th:only-of-type {\n",
       "        vertical-align: middle;\n",
       "    }\n",
       "\n",
       "    .dataframe tbody tr th {\n",
       "        vertical-align: top;\n",
       "    }\n",
       "\n",
       "    .dataframe thead th {\n",
       "        text-align: right;\n",
       "    }\n",
       "</style>\n",
       "<table border=\"1\" class=\"dataframe\">\n",
       "  <thead>\n",
       "    <tr style=\"text-align: right;\">\n",
       "      <th></th>\n",
       "      <th>38</th>\n",
       "      <th>249</th>\n",
       "      <th>79</th>\n",
       "      <th>124</th>\n",
       "      <th>107</th>\n",
       "    </tr>\n",
       "  </thead>\n",
       "  <tbody>\n",
       "    <tr>\n",
       "      <th>2010</th>\n",
       "      <td>5.7386e+07</td>\n",
       "      <td>6.1061e+07</td>\n",
       "      <td>5.5562e+07</td>\n",
       "      <td>1.2488e+07</td>\n",
       "      <td>1.2988e+07</td>\n",
       "    </tr>\n",
       "    <tr>\n",
       "      <th>2011</th>\n",
       "      <td>7.025e+07</td>\n",
       "      <td>5.9209e+07</td>\n",
       "      <td>5.6836e+07</td>\n",
       "      <td>1.2694e+07</td>\n",
       "      <td>1.3994e+07</td>\n",
       "    </tr>\n",
       "    <tr>\n",
       "      <th>2012</th>\n",
       "      <td>8.3182e+07</td>\n",
       "      <td>6.0697e+07</td>\n",
       "      <td>5.6538e+07</td>\n",
       "      <td>1.3737e+07</td>\n",
       "      <td>1.492e+07</td>\n",
       "    </tr>\n",
       "    <tr>\n",
       "      <th>2013</th>\n",
       "      <td>9.8185e+07</td>\n",
       "      <td>6.1344e+07</td>\n",
       "      <td>5.7792e+07</td>\n",
       "      <td>1.4846e+07</td>\n",
       "      <td>1.6626e+07</td>\n",
       "    </tr>\n",
       "    <tr>\n",
       "      <th>2014</th>\n",
       "      <td>1.16593e+08</td>\n",
       "      <td>6.8185e+07</td>\n",
       "      <td>6.0082e+07</td>\n",
       "      <td>1.6081e+07</td>\n",
       "      <td>1.833e+07</td>\n",
       "    </tr>\n",
       "    <tr>\n",
       "      <th>2015</th>\n",
       "      <td>1.2786e+08</td>\n",
       "      <td>7.4191e+07</td>\n",
       "      <td>6.572e+07</td>\n",
       "      <td>1.931e+07</td>\n",
       "      <td>2.0376e+07</td>\n",
       "    </tr>\n",
       "    <tr>\n",
       "      <th>2016</th>\n",
       "      <td>1.3513e+08</td>\n",
       "      <td>8.0226e+07</td>\n",
       "      <td>7.0815e+07</td>\n",
       "      <td>2.2383e+07</td>\n",
       "      <td>2.1872e+07</td>\n",
       "    </tr>\n",
       "    <tr>\n",
       "      <th>2017</th>\n",
       "      <td>1.43035e+08</td>\n",
       "      <td>8.7703e+07</td>\n",
       "      <td>7.4189e+07</td>\n",
       "      <td>2.6496e+07</td>\n",
       "      <td>2.3943e+07</td>\n",
       "    </tr>\n",
       "  </tbody>\n",
       "</table>\n",
       "</div>"
      ],
      "text/plain": [
       "              38          249         79          124         107\n",
       "2010   5.7386e+07  6.1061e+07  5.5562e+07  1.2488e+07  1.2988e+07\n",
       "2011    7.025e+07  5.9209e+07  5.6836e+07  1.2694e+07  1.3994e+07\n",
       "2012   8.3182e+07  6.0697e+07  5.6538e+07  1.3737e+07   1.492e+07\n",
       "2013   9.8185e+07  6.1344e+07  5.7792e+07  1.4846e+07  1.6626e+07\n",
       "2014  1.16593e+08  6.8185e+07  6.0082e+07  1.6081e+07   1.833e+07\n",
       "2015   1.2786e+08  7.4191e+07   6.572e+07   1.931e+07  2.0376e+07\n",
       "2016   1.3513e+08  8.0226e+07  7.0815e+07  2.2383e+07  2.1872e+07\n",
       "2017  1.43035e+08  8.7703e+07  7.4189e+07  2.6496e+07  2.3943e+07"
      ]
     },
     "execution_count": 17,
     "metadata": {},
     "output_type": "execute_result"
    }
   ],
   "source": [
    "top5tdata = top5t[0:8]\n",
    "top5tdata"
   ]
  },
  {
   "cell_type": "code",
   "execution_count": 18,
   "metadata": {},
   "outputs": [],
   "source": [
    "top5tdata.columns  = top5['Country Name']"
   ]
  },
  {
   "cell_type": "code",
   "execution_count": 19,
   "metadata": {},
   "outputs": [
    {
     "data": {
      "text/html": [
       "<div>\n",
       "<style scoped>\n",
       "    .dataframe tbody tr th:only-of-type {\n",
       "        vertical-align: middle;\n",
       "    }\n",
       "\n",
       "    .dataframe tbody tr th {\n",
       "        vertical-align: top;\n",
       "    }\n",
       "\n",
       "    .dataframe thead th {\n",
       "        text-align: right;\n",
       "    }\n",
       "</style>\n",
       "<table border=\"1\" class=\"dataframe\">\n",
       "  <thead>\n",
       "    <tr style=\"text-align: right;\">\n",
       "      <th>Country Name</th>\n",
       "      <th>China</th>\n",
       "      <th>United States</th>\n",
       "      <th>United Kingdom</th>\n",
       "      <th>Korea, Rep.</th>\n",
       "      <th>India</th>\n",
       "    </tr>\n",
       "  </thead>\n",
       "  <tbody>\n",
       "    <tr>\n",
       "      <th>2010</th>\n",
       "      <td>5.7386e+07</td>\n",
       "      <td>6.1061e+07</td>\n",
       "      <td>5.5562e+07</td>\n",
       "      <td>1.2488e+07</td>\n",
       "      <td>1.2988e+07</td>\n",
       "    </tr>\n",
       "    <tr>\n",
       "      <th>2011</th>\n",
       "      <td>7.025e+07</td>\n",
       "      <td>5.9209e+07</td>\n",
       "      <td>5.6836e+07</td>\n",
       "      <td>1.2694e+07</td>\n",
       "      <td>1.3994e+07</td>\n",
       "    </tr>\n",
       "    <tr>\n",
       "      <th>2012</th>\n",
       "      <td>8.3182e+07</td>\n",
       "      <td>6.0697e+07</td>\n",
       "      <td>5.6538e+07</td>\n",
       "      <td>1.3737e+07</td>\n",
       "      <td>1.492e+07</td>\n",
       "    </tr>\n",
       "    <tr>\n",
       "      <th>2013</th>\n",
       "      <td>9.8185e+07</td>\n",
       "      <td>6.1344e+07</td>\n",
       "      <td>5.7792e+07</td>\n",
       "      <td>1.4846e+07</td>\n",
       "      <td>1.6626e+07</td>\n",
       "    </tr>\n",
       "    <tr>\n",
       "      <th>2014</th>\n",
       "      <td>1.16593e+08</td>\n",
       "      <td>6.8185e+07</td>\n",
       "      <td>6.0082e+07</td>\n",
       "      <td>1.6081e+07</td>\n",
       "      <td>1.833e+07</td>\n",
       "    </tr>\n",
       "    <tr>\n",
       "      <th>2015</th>\n",
       "      <td>1.2786e+08</td>\n",
       "      <td>7.4191e+07</td>\n",
       "      <td>6.572e+07</td>\n",
       "      <td>1.931e+07</td>\n",
       "      <td>2.0376e+07</td>\n",
       "    </tr>\n",
       "    <tr>\n",
       "      <th>2016</th>\n",
       "      <td>1.3513e+08</td>\n",
       "      <td>8.0226e+07</td>\n",
       "      <td>7.0815e+07</td>\n",
       "      <td>2.2383e+07</td>\n",
       "      <td>2.1872e+07</td>\n",
       "    </tr>\n",
       "    <tr>\n",
       "      <th>2017</th>\n",
       "      <td>1.43035e+08</td>\n",
       "      <td>8.7703e+07</td>\n",
       "      <td>7.4189e+07</td>\n",
       "      <td>2.6496e+07</td>\n",
       "      <td>2.3943e+07</td>\n",
       "    </tr>\n",
       "  </tbody>\n",
       "</table>\n",
       "</div>"
      ],
      "text/plain": [
       "Country Name        China United States United Kingdom Korea, Rep.       India\n",
       "2010           5.7386e+07    6.1061e+07     5.5562e+07  1.2488e+07  1.2988e+07\n",
       "2011            7.025e+07    5.9209e+07     5.6836e+07  1.2694e+07  1.3994e+07\n",
       "2012           8.3182e+07    6.0697e+07     5.6538e+07  1.3737e+07   1.492e+07\n",
       "2013           9.8185e+07    6.1344e+07     5.7792e+07  1.4846e+07  1.6626e+07\n",
       "2014          1.16593e+08    6.8185e+07     6.0082e+07  1.6081e+07   1.833e+07\n",
       "2015           1.2786e+08    7.4191e+07      6.572e+07   1.931e+07  2.0376e+07\n",
       "2016           1.3513e+08    8.0226e+07     7.0815e+07  2.2383e+07  2.1872e+07\n",
       "2017          1.43035e+08    8.7703e+07     7.4189e+07  2.6496e+07  2.3943e+07"
      ]
     },
     "execution_count": 19,
     "metadata": {},
     "output_type": "execute_result"
    }
   ],
   "source": [
    "top5tdata"
   ]
  },
  {
   "cell_type": "code",
   "execution_count": 22,
   "metadata": {},
   "outputs": [
    {
     "data": {
      "text/plain": [
       "[Text(0, 0, '2010'),\n",
       " Text(0, 0, '2011'),\n",
       " Text(0, 0, '2012'),\n",
       " Text(0, 0, '2013'),\n",
       " Text(0, 0, '2014'),\n",
       " Text(0, 0, '2015'),\n",
       " Text(0, 0, '2016'),\n",
       " Text(0, 0, '2017')]"
      ]
     },
     "execution_count": 22,
     "metadata": {},
     "output_type": "execute_result"
    },
    {
     "data": {
      "image/png": "[encoded data removed]",
      "text/plain": [
       "<Figure size 432x288 with 1 Axes>"
      ]
     },
     "metadata": {
      "needs_background": "light"
     },
     "output_type": "display_data"
    }
   ],
   "source": [
    " ax = top5tdata.plot()\n",
    "ax.set_xlabel(\"Years\")\n",
    "ax.set_ylabel(\"Tourism Departures\")\n",
    "ax.set_xticklabels(top5tdata.index, rotation=0)"
   ]
  },
  {
   "cell_type": "code",
   "execution_count": null,
   "metadata": {},
   "outputs": [],
   "source": []
  }
 ],
 "metadata": {
  "kernelspec": {
   "display_name": "Python 3",
   "language": "python",
   "name": "python3"
  },
  "language_info": {
   "codemirror_mode": {
    "name": "ipython",
    "version": 3
   },
   "file_extension": ".py",
   "mimetype": "text/x-python",
   "name": "python",
   "nbconvert_exporter": "python",
   "pygments_lexer": "ipython3",
   "version": "3.7.1"
  }
 },
 "nbformat": 4,
 "nbformat_minor": 2
}
