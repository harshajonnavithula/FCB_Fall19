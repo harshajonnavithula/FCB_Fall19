{
 "cells": [
  {
   "cell_type": "code",
   "execution_count": 6,
   "metadata": {},
   "outputs": [],
   "source": [
    "import pandas\n",
    "cerealproduction = pandas.read_csv('CerealProduction.csv')\n",
    "cerealproductioncountry=cerealproduction.iloc[:,0:1]\n",
    "cerealproductiondata = cerealproduction.iloc[:, 54:62]\n",
    "cerealproductiondata = cerealproductiondata.dropna()\n",
    "cerealproductiondata = cerealproductiondata.join(cerealproductioncountry)\n",
    "cerealproductiondata.to_csv('CerealProductionCLEANED.csv')\n"
   ]
  },
  {
   "cell_type": "code",
   "execution_count": null,
   "metadata": {},
   "outputs": [],
   "source": []
  }
 ],
 "metadata": {
  "kernelspec": {
   "display_name": "Python 3",
   "language": "python",
   "name": "python3"
  },
  "language_info": {
   "codemirror_mode": {
    "name": "ipython",
    "version": 3
   },
   "file_extension": ".py",
   "mimetype": "text/x-python",
   "name": "python",
   "nbconvert_exporter": "python",
   "pygments_lexer": "ipython3",
   "version": "3.7.1"
  }
 },
 "nbformat": 4,
 "nbformat_minor": 2
}
