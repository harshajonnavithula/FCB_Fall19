{
 "cells": [
  {
   "cell_type": "code",
   "execution_count": 14,
   "metadata": {},
   "outputs": [],
   "source": [
    "import tweepy\n",
    "\n",
    "consumer_key = \"98HildnXniXArE0g4y0rxHvy6\"\n",
    "consumer_secret = \"KuzGtjnGmilL8MoHzUjBuAWykVQlqgJmm6kBxFGxOlw4Y84cWq\"\n",
    "access_token = \"415927378-SXuiQmVewRzdztfXPPgeboeqfPk8QvMB4AmiTwll\"\n",
    "access_token_secret = \"b3VX2jBGFlZKQFpMFCQcme39JjiDVtpm3uFIXXSeHkLul\""
   ]
  },
  {
   "cell_type": "code",
   "execution_count": 15,
   "metadata": {},
   "outputs": [],
   "source": [
    "# attempt authentication \n",
    "try: \n",
    "    # Creating the authentication object\n",
    "    auth = tweepy.OAuthHandler(consumer_key, consumer_secret)\n",
    "    # Setting your access token and secret\n",
    "    auth.set_access_token(access_token, access_token_secret)\n",
    "    # Creating the API object while passing in auth information\n",
    "    api = tweepy.API(auth)\n",
    "except:\n",
    "    print(\"Error: Authentication Failed\")"
   ]
  },
  {
   "cell_type": "code",
   "execution_count": 16,
   "metadata": {
    "scrolled": true
   },
   "outputs": [
    {
     "name": "stdout",
     "output_type": "stream",
     "text": [
      "Warming already exceeds 1.5°C in some places. Climate models that include human activity are the only ones that can… https://t.co/KnCVdSVfAs\n",
      "تقرير: فاطمة التريكي | المعركة في #نجران لا في #طهران.. أي إستراتيجية لابن سلمان؟ https://t.co/ZqrlcHpnbS\n",
      "This Guy Found a Way to Troll People Who Asked Him for Free Stuff https://t.co/IQ3SYyBtAy\n",
      "غضب شعبي في #العراق .. والسبب؟ https://t.co/wMTYxZFvhn\n",
      "36-year-old Franck Ribery was given a standing ovation from the San Siro for his performance in Fiorentina’s win ov… https://t.co/vEQix1TOPj\n",
      "At this weekend's box office, the animated, family-friendly yetis of “Abominable\" outperformed everything else at m… https://t.co/aq7PTDPVp6\n",
      "It's important to consider the credibility of the whistleblower complaint, the calculation of the Democrats and the… https://t.co/tyMNFvselX\n",
      "#لبنان.. مظاهرات وقطع طرق بعدة مدن احتجاجا على الفساد وتردي الأوضاع الاقتصادية | جوني طانيوس – الجزيرة – بيروت https://t.co/3YJCZ7JUUI\n",
      "ICYMI: Cannes, France’s fourth-biggest cruise ship port, will ban the most polluting cruise ships from next year. M… https://t.co/pfdqHqm5iw\n",
      "Yemen's Houthis say footage shows attack on Saudi border frontline https://t.co/QDzc2LsEZr https://t.co/0KjUHj4Tkj\n",
      "Inside https://t.co/NYQJNXWbu4, where a firebrand CEO and \"Deep State\" intrigue took center stage https://t.co/gxonScwE7W\n",
      "النائب العام يحيل جدة الطفلة جنة للمحاكمة العاجلة لاتهامها بضرب وتعذيب حفيدتها https://t.co/4U0M8ks0xu\n",
      "Vardy at the double as Leicester thrash Newcastle 5-0 https://t.co/snTG8jiDHJ https://t.co/eCfbhZcuoa\n",
      "President Trump has smeared William Barr and fuelled calls for the Attorney General to be investigated. Barr now fa… https://t.co/5whDp77hGG\n",
      "هونج كونج وتايوان وماكاو يشاركون في احتفالية الذكرى السبعين لتأسيس الصين | صور https://t.co/Ezkv7v1Ud0\n",
      "بالفيديو\n",
      "يمكن أن يقتلك أو ينقذ حياتك..ما هي حقيقة صناعة الكانابيديول؟ https://t.co/92AUk0V0EY\n",
      "نابولي يعكر على بالوتيلي هدفه الأول مع بريشيا بالدوري الإيطالي https://t.co/9VzMYAlHWo\n",
      "Today the Patriots defense gave up its first touchdown since the AFC Championship game last season.\n",
      "\n",
      "That was 252 d… https://t.co/fnUoipQdiM\n",
      "أحمد موسى: \"الجماعة الإرهابية فشلت في حشد 50 ألف شخص\"| فيديو  https://t.co/OWq7mhD78n\n",
      "أحمد موسى يعرض تسريبا صوتيا للإخوان يكشف مخططهم للتحريض على الدولة|فيديو  https://t.co/J4e1LPB7Ki\n"
     ]
    }
   ],
   "source": [
    "# Using the API object to get tweets from your timeline, and storing it in a variable called public_tweets\n",
    "public_tweets = api.home_timeline()\n",
    "# foreach through all tweets pulled\n",
    "for tweet in public_tweets:\n",
    "   # printing the text stored inside the tweet object\n",
    "   print(tweet.text)"
   ]
  },
  {
   "cell_type": "code",
   "execution_count": 17,
   "metadata": {},
   "outputs": [
    {
     "name": "stdout",
     "output_type": "stream",
     "text": [
      "hammandanial Tweeted: RT @hzkryy: Find a girl who looks at you the way she looks at her food. https://t.co/mNcRx8XyBG\n",
      "angelcakepjm Tweeted: RT @jhsjoonie: BTS GOING TO EAT HALAL FOOD AND HEAR THE ADHAN EVERY DAY NEXT WEEKEND IM EXCITED BTS MUSLIM\n",
      "https://t.co/3ee4OMs62g\n",
      "nassxma Tweeted: RT @0fficialjj: “we got food at the house”\n",
      "Me: https://t.co/biJP8AnY2P\n",
      "sarahjanevezina Tweeted: RT @sIIept: uber eats:\n",
      "\n",
      "food: $12\n",
      "\n",
      "service fee: $3\n",
      "\n",
      "delivery fee: $9\n",
      "\n",
      "tip: $2\n",
      "\n",
      "total: $260\n",
      "AzuricanKnight Tweeted: RT @xD1x: @JoeZieja @TheNo1Alex The honor is mine, thank you for your hard work and shout-out to Alex for the intro!\n",
      "\n",
      "He still has yet to s…\n",
      "cancsis Tweeted: RT @matttomic: food mascots and whether or not I'd be able to kick their ass https://t.co/hKOx8vjHnd\n",
      "teaaamonet Tweeted: RT @ThomasLManuel: People don’t realize traveling the world is cheaper than buying a section at a club or buying a designer outfit. This is…\n",
      "Sachiiin_ Tweeted: RT @MEK_IT_: @Sachiiin_ the one who are in other parts of the world especially those who're in the areas that are exposed to the 4 seasons…\n",
      "Queloadingg Tweeted: RT @0fficialjj: “we got food at the house”\n",
      "Me: https://t.co/biJP8AnY2P\n",
      "suewoohoo Tweeted: RT @lowkeyclutch: me sneaking back into my room after I went to the kitchen to get food while my parents have guests over https://t.co/yF2v…\n",
      "us_poll Tweeted: @hogansgoat2423 @RPCovit @Sarahrain19 @TheAkmed @WaydeDe @GelicaAF @_edwardmondini_ @WeidnerRoger @Rabbit70414459… https://t.co/pwjEzXRLVi\n",
      "actualyayoi Tweeted: stuffing iori's food into tupperwear to feed your siblings is the dark souls of dinner\n",
      "DarrenY52 Tweeted: RT @Tim_Burgess: A girl trying save the planet, is called a spoilt brat by a man who punched someone for getting his food wrong : / https:/…\n",
      "samventer1 Tweeted: Fantastic experience of the Heritage Story food &amp; wine pairing at @Daniela_Marie7 - engaging all the senses (yes ev… https://t.co/9UQScNKhqY\n",
      "imeekie_ Tweeted: RT @okkk_nalgish: When I offer someone food and they actually accept. https://t.co/2c5QaFpTrq\n"
     ]
    }
   ],
   "source": [
    "# The search term you want to find\n",
    "query = \"Food\"\n",
    "# Language code (follows ISO 639-1 standards)\n",
    "language = \"en\"\n",
    "\n",
    "# Calling the user_timeline function with our parameters\n",
    "results = api.search(q=query, lang=language)\n",
    "\n",
    "# foreach through all tweets pulled\n",
    "for tweet in results:\n",
    "   # printing the text stored inside the tweet object\n",
    "   print(tweet.user.screen_name,\"Tweeted:\",tweet.text)"
   ]
  },
  {
   "cell_type": "code",
   "execution_count": null,
   "metadata": {},
   "outputs": [],
   "source": []
  }
 ],
 "metadata": {
  "kernelspec": {
   "display_name": "Python 3",
   "language": "python",
   "name": "python3"
  },
  "language_info": {
   "codemirror_mode": {
    "name": "ipython",
    "version": 3
   },
   "file_extension": ".py",
   "mimetype": "text/x-python",
   "name": "python",
   "nbconvert_exporter": "python",
   "pygments_lexer": "ipython3",
   "version": "3.6.4"
  }
 },
 "nbformat": 4,
 "nbformat_minor": 2
}
